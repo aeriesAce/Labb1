# create the function

# used inspiration from Python fundamentals lecture notes and https://github.com/zaneveld/full_spectrum_bioinformatics/blob/master/content/06_biological_sequences/reading_and_writing_fasta_files.ipynb

def read_data_file(text_file):


    sequence_text = {}

    sequence_id = None

    sequence_data = []


    with open(text_file, "r") as file:

        for l in file:

            l = l.strip()


            if not l:
                continue


        if l.startswith(">"):

            if sequence_id is not None:

                sequence_text[sequence_id] = "".join(sequence_data).upper()

            sequence_id = l

            sequence_data = []

        else:

            sequence_data.append(l)
    

    if sequence_id is not None:

        sequence_text[sequence_id] = "".join(sequence_data).upper()
    

    sequence_text = {k: v for k, v in dna_sequences.items() if v}  


    return sequence_text
