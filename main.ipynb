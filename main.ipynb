{
 "cells": [
  {
   "cell_type": "markdown",
   "metadata": {},
   "source": [
    "**Part 1**"
   ]
  },
  {
   "cell_type": "code",
   "execution_count": null,
   "metadata": {},
   "outputs": [],
   "source": [
    "# read the text file\n",
    "text_path =\"dna_raw.txt\"\n",
    "\n",
    "# to open and read the textfile\n",
    "with open(text_path, \"r\") as file:\n",
    "    raw_text = file.read().strip().splitlines()\n",
    "\n",
    "# the dictionary to store the sequence\n",
    "dna_sequence = {}\n",
    "\n",
    "# for loop to process the id and its sequence\n",
    "# https://www.w3schools.com/python/python_dictionaries.asp\n",
    "for i in range(0, len(raw_text), 2):\n",
    "    sequence_id = raw_text[i].strip()\n",
    "    data_sequence = raw_text[i + 1].strip().upper()\n",
    "\n",
    "    dna_sequence[sequence_id] = data_sequence"
   ]
  },
  {
   "cell_type": "code",
   "execution_count": null,
   "metadata": {},
   "outputs": [],
   "source": [
    "import matplotlib.pyplot as plt\n",
    "# create the diagram #\n",
    "\n",
    "# loops through every sequence in the dictionary, starts at 1 instead of zero\n",
    "for i, (sequence_id, letter) in enumerate(dna_sequence.items(), start = 1): # used information from w3 schools https://www.w3schools.com/python/ref_func_enumerate.asp\n",
    "\n",
    "    # the x-coordinates\n",
    "    dna_letters = [\"A\", \"C\", \"G\", \"T\"]\n",
    "\n",
    "    # counts the letters directly\n",
    "    letter_counts = [letter.count(c) for c in dna_letters]\n",
    "    \n",
    "    # the bar chart\n",
    "    plt.bar(dna_letters, letter_counts, color=['red', 'green', 'yellow', 'blue']) # used information from W3-Schools https://www.w3schools.com/python/matplotlib_bars.asp\n",
    "\n",
    "    # adding title and labels\n",
    "    plt.title(f\"Sequence {i}\")\n",
    "    plt.xlabel(\"DNA Letters\")\n",
    "    plt.ylabel(\"Frequency\")\n",
    "\n",
    "    # I have to use plt.show otherwise it won't print out all sequences\n",
    "    plt.show()"
   ]
  },
  {
   "cell_type": "markdown",
   "metadata": {},
   "source": [
    "**Part 2**"
   ]
  },
  {
   "cell_type": "code",
   "execution_count": 89,
   "metadata": {},
   "outputs": [],
   "source": [
    "# create the function\n",
    "# used inspiration from Python fundamentals lecture notes and https://github.com/zaneveld/full_spectrum_bioinformatics/blob/master/content/06_biological_sequences/reading_and_writing_fasta_files.ipynb\n",
    "def read_data_file(text_file):\n",
    "    \n",
    "    sequence_text = {}\n",
    "    sequence_id = None \n",
    "    sequence_data = [] \n",
    "\n",
    "    with open(text_file, \"r\") as file:\n",
    "            for line in file:\n",
    "                line = line.strip()\n",
    "\n",
    "                # skips empty lines\n",
    "                if not line:\n",
    "                    continue  \n",
    "\n",
    "                # here we looks for new sequence ids\n",
    "                if line.startswith(\">\"):\n",
    "\n",
    "                    if sequence_id is not None and sequence_data:\n",
    "                        sequence_text[sequence_id] = \"\".join(sequence_data).upper()\n",
    "                        \n",
    "                    #this removes \">\" from the id\n",
    "                    sequence_id = line[1:].strip()\n",
    "                    sequence_data = []\n",
    "                else:\n",
    "                    sequence_data.append(line.upper())\n",
    "                    \n",
    "                    # stores the last sequence\n",
    "                    if sequence_id is not None and sequence_data:\n",
    "                     sequence_text[sequence_id] = \"\".join(sequence_data).upper()\n",
    "                     \n",
    "    return sequence_text"
   ]
  },
  {
   "cell_type": "code",
   "execution_count": null,
   "metadata": {},
   "outputs": [],
   "source": [
    "dna_sequences = read_data_file(\"dna_raw_c.txt\")\n",
    "\n",
    "for i, (sequence_id, letter) in enumerate(dna_sequences.items(), start = 1):\n",
    "\n",
    "    dna_letters = [\"A\", \"C\", \"G\", \"T\"]\n",
    "    letter_counts = [letter.count(c) for c in dna_letters]\n",
    "\n",
    "    plt.bar(dna_letters, letter_counts, color=['red', 'green', 'yellow', 'blue'])\n",
    "\n",
    "    plt.title(f\"Sequence {i}\")\n",
    "    plt.xlabel(\"DNA Letters\")\n",
    "    plt.ylabel(\"Frequency\")\n",
    "\n",
    "    plt.show()"
   ]
  }
 ],
 "metadata": {
  "kernelspec": {
   "display_name": ".venv",
   "language": "python",
   "name": "python3"
  },
  "language_info": {
   "codemirror_mode": {
    "name": "ipython",
    "version": 3
   },
   "file_extension": ".py",
   "mimetype": "text/x-python",
   "name": "python",
   "nbconvert_exporter": "python",
   "pygments_lexer": "ipython3",
   "version": "3.13.1"
  }
 },
 "nbformat": 4,
 "nbformat_minor": 2
}
